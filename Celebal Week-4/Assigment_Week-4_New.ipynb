{
 "cells": [
  {
   "cell_type": "markdown",
   "metadata": {},
   "source": [
    "## Name : Pranav Narkhede\n",
    "Assignment Week-4\n",
    "\n",
    "  \n",
    "  "
   ]
  },
  {
   "cell_type": "markdown",
   "metadata": {},
   "source": [
    "Apply Bayes' Theorem to solve a medical diagnosis problem given conditional probabilities.Find the eigenvalues and corresponding eigenvectors of a given matrix.Calculate the determinant of a 3x3 matrix and find its inverse if possible.Describe the properties and applications of the Normal distribution and calculate probabilities using its properties\n",
    "\n",
    "\n",
    "\n"
   ]
  },
  {
   "cell_type": "markdown",
   "metadata": {},
   "source": [
    "Problem Statement\n",
    "Consider a medical diagnosis problem in which there are two alternative hypotheses: \n",
    "(1) that the patient has a particular form of cancer. \n",
    "(2) that the patient does not. \n",
    "The available data is from a particular laboratory test with two possible outcomes:  + (positive) and − (negative).\n",
    "The test returns a correct positive result in only 98% of the cases in which the disease is actually present, and a correct negative result in only 97% of the cases in which the disease is not present.\n",
    "Furthermore, we know that 0.008 of the entire population has cancer."
   ]
  },
  {
   "cell_type": "code",
   "execution_count": 5,
   "metadata": {},
   "outputs": [
    {
     "name": "stdout",
     "output_type": "stream",
     "text": [
      "0.008\n",
      "0.992\n",
      "0.98\n",
      "0.020000000000000018\n",
      "0.97\n",
      "0.030000000000000027\n"
     ]
    }
   ],
   "source": [
    "# Given probabilities  Positive Report==>T ,Negative Report==>F\n",
    "\n",
    "#Probability of  having Cancer\n",
    "P_C = 0.008  \n",
    "print(P_C)\n",
    "\n",
    "#Probability of  not having Cancer\n",
    "P_not_C=1-P_C\n",
    "print(P_not_C)\n",
    "\n",
    "#Probability of  having Cancer and positive report   \n",
    "P_C_given_T = 0.98\n",
    "print(P_C_given_T)\n",
    "\n",
    "#Probaility of Report negative and  Cancer\n",
    "P_C_given_F=1-P_C_given_T\n",
    "print(P_C_given_F)\n",
    "\n",
    "#Probaility of Report negative and  no Cancer\n",
    "P_F_given_not_C = 0.97 \n",
    "print(P_F_given_not_C )\n",
    "\n",
    "#Probaility of Report positive and  no Cancer\n",
    "P_T_given_not_C = 1 - 0.97 \n",
    "print(P_T_given_not_C )"
   ]
  },
  {
   "cell_type": "markdown",
   "metadata": {},
   "source": [
    "Suppose a new patient is observed for whom the lab test returns a positive (+) result.Should we diagnose the patient as having cancer or not?\n",
    "\n",
    " \n",
    "\n",
    "\n"
   ]
  },
  {
   "cell_type": "markdown",
   "metadata": {},
   "source": [
    "Applying Bayes Theorm\n",
    "P(A|B) = P(B|A)P(A) / P(B)\n",
    "In many learning scenarios, the learner considers some set of candidate hypotheses H\n",
    "and is interested in finding the most probable hypothesis h ∈ H given the observed data\n",
    "D. Any such maximally probable hypothesis is called a maximum a posteriori (MAP)\n",
    "hypothesis. Bayes theorem to calculate the posterior probability of each candidate hypothesis is hMAP\n",
    "is a MAP hypothesis provided\n",
    "\n",
    "hmap=argmax(P(A/B))\n",
    "Hence P(B) can be dropped, because it is a constant independent of A   "
   ]
  },
  {
   "cell_type": "code",
   "execution_count": 6,
   "metadata": {},
   "outputs": [
    {
     "name": "stdout",
     "output_type": "stream",
     "text": [
      "0.00784\n",
      "0.029760000000000026\n"
     ]
    }
   ],
   "source": [
    "#Probability of Cancer with Positive Report\n",
    "P_C_given_T= P_C_given_T * P_C\n",
    "print(P_C_given_T)\n",
    "\n",
    "#Probability of NOT Cancer with Positive Report\n",
    "P_not_C_given_T= P_T_given_not_C * P_not_C\n",
    "print(P_not_C_given_T)"
   ]
  },
  {
   "cell_type": "markdown",
   "metadata": {},
   "source": [
    "Conclusion\n",
    "The result P_C_given_T = 0.00784 represents the probability of having cancer (C) given a positive test result (T). \n",
    "This value, despite being small, indicates that a positive test result increases the suspicion of cancer. It suggests that out of every 10,000 people who test positive, approximately 7.84 might actually have cancer.\n",
    "\n",
    "\n",
    "\n",
    "P_not_C_given_T (0.02976): This is the probability of NOT having cancer (not C) given a positive test result (T).This value, although small, indicates that even with a positive test result, there's still a possibility the person might not have cancer. It suggests that out of every 100 people who test positive, approximately 2.98 might actually not have cancer."
   ]
  },
  {
   "cell_type": "markdown",
   "metadata": {},
   "source": [
    "## Eigenvalues and Eigenvectors of a Given Matrix\n"
   ]
  },
  {
   "cell_type": "markdown",
   "metadata": {},
   "source": [
    "Eigenvalues (λ): These are special scalar values associated with a square matrix. For a non-zero vector v (eigenvector), multiplying A by v results in the eigenvalue λ times v: A * v = λ * v.\n",
    "\n",
    "\n",
    "Eigenvectors (v): These are non-zero vectors associated with a matrix's eigenvalues. They define the directions in which the matrix scales a vector when multiplied."
   ]
  },
  {
   "cell_type": "code",
   "execution_count": 7,
   "metadata": {},
   "outputs": [
    {
     "name": "stdout",
     "output_type": "stream",
     "text": [
      "Eigenvalues:\n",
      "[5. 2.]\n",
      "Eigenvectors:\n",
      "[[ 0.70710678 -0.4472136 ]\n",
      " [ 0.70710678  0.89442719]]\n"
     ]
    }
   ],
   "source": [
    "#Importing Libraries\n",
    "import numpy as np\n",
    "\n",
    "# Define matrix A\n",
    "A = np.array([[4, 1],\n",
    "              [2, 3]])\n",
    "\n",
    "# Calculate eigenvalues and eigenvectors\n",
    "eigenvalues, eigenvectors = np.linalg.eig(A)\n",
    "\n",
    "\n",
    "# In Python's NumPy library, np.linalg.eig(A) is a function used to compute the eigenvalues and eigenvectors of a square matrix A.\n",
    "\n",
    "print(\"Eigenvalues:\")\n",
    "print(eigenvalues)\n",
    "\n",
    "print(\"Eigenvectors:\")\n",
    "print(eigenvectors)\n"
   ]
  },
  {
   "cell_type": "markdown",
   "metadata": {},
   "source": [
    "## Determinant and Inverse of a 3x3 Matrix\n"
   ]
  },
  {
   "cell_type": "code",
   "execution_count": 8,
   "metadata": {},
   "outputs": [
    {
     "name": "stdout",
     "output_type": "stream",
     "text": [
      "Determinant of B: 1.0000\n",
      "Inverse of B:\n",
      "[[-24.  18.   5.]\n",
      " [ 20. -15.  -4.]\n",
      " [ -5.   4.   1.]]\n"
     ]
    }
   ],
   "source": [
    "import numpy as np\n",
    "\n",
    "# Define matrix B\n",
    "B = np.array([[1, 2, 3],\n",
    "              [0, 1, 4],\n",
    "              [5, 6, 0]])\n",
    "\n",
    "# Calculate determinant\n",
    "det_B = np.linalg.det(B)\n",
    "print(f\"Determinant of B: {det_B:.4f}\")\n",
    "\n",
    "# Check if the matrix is invertible \n",
    "if det_B != 0:\n",
    "    inv_B = np.linalg.inv(B)\n",
    "    print(\"Inverse of B:\")\n",
    "    print(inv_B)\n",
    "else:\n",
    "    print(\"Matrix B is not invertible\")\n"
   ]
  },
  {
   "cell_type": "markdown",
   "metadata": {},
   "source": [
    "## Properties and Applications of the Normal Distribution\n"
   ]
  },
  {
   "cell_type": "markdown",
   "metadata": {},
   "source": [
    "The normal distribution, also known as the Gaussian distribution, is a continuous probability distribution that is commonly used to model real-valued random variables. It is characterized by two parameters: the mean μ and the standard deviation 𝜎.\n",
    "\n",
    "Properties\n",
    "\n",
    "Symmetry: The normal distribution is symmetric around its mean μ.\n",
    "\n",
    "Bell-Shaped: The normal distribution has a bell-shaped curve.\n",
    "\n",
    "Continuous: The normal distribution is continuous, meaning that it can take any value within a certain range."
   ]
  },
  {
   "cell_type": "markdown",
   "metadata": {},
   "source": [
    "Applications\n",
    "\n",
    "Modeling Real-Valued Random Variables: The normal distribution is often used to model real-valued random variables, such as heights, weights, and IQ scores.\n",
    "\n",
    "Quality Control: The normal distribution is used in quality control to determine the acceptable limits for a product's quality.\n",
    "\n",
    "Finance: The normal distribution is used in finance to model stock prices and returns."
   ]
  },
  {
   "cell_type": "markdown",
   "metadata": {},
   "source": [
    "##  Calculate probabilities using its properties"
   ]
  },
  {
   "cell_type": "code",
   "execution_count": 9,
   "metadata": {},
   "outputs": [
    {
     "name": "stdout",
     "output_type": "stream",
     "text": [
      "Probability P(X < 1.96) = 0.9750\n",
      "Probability P(-1.96 < X < 1.96) = 0.9500\n"
     ]
    }
   ],
   "source": [
    "import scipy.stats as stats\n",
    "\n",
    "# Define mean (mu) and standard deviation (sigma)\n",
    "mu = 0\n",
    "sigma = 1\n",
    "\n",
    "# Create a normal distribution object\n",
    "normal_dist = stats.norm(loc=mu, scale=sigma)\n",
    "\n",
    "# Calculate the probability of a value being less than x (e.g., x = 1.96)\n",
    "x = 1.96\n",
    "probability = normal_dist.cdf(x)\n",
    "\n",
    "print(f\"Probability P(X < {x}) = {probability:.4f}\")\n",
    "\n",
    "# Calculate the probability of a value being within a range (e.g., -1.96 < X < 1.96)\n",
    "x1 = -1.96\n",
    "x2 = 1.96\n",
    "probability_range = normal_dist.cdf(x2) - normal_dist.cdf(x1)\n",
    "\n",
    "print(f\"Probability P({x1} < X < {x2}) = {probability_range:.4f}\")\n"
   ]
  },
  {
   "cell_type": "code",
   "execution_count": null,
   "metadata": {},
   "outputs": [],
   "source": []
  }
 ],
 "metadata": {
  "kernelspec": {
   "display_name": "Python 3",
   "language": "python",
   "name": "python3"
  },
  "language_info": {
   "codemirror_mode": {
    "name": "ipython",
    "version": 3
   },
   "file_extension": ".py",
   "mimetype": "text/x-python",
   "name": "python",
   "nbconvert_exporter": "python",
   "pygments_lexer": "ipython3",
   "version": "3.12.3"
  }
 },
 "nbformat": 4,
 "nbformat_minor": 2
}
